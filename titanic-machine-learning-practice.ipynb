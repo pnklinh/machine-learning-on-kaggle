{
 "cells": [
  {
   "cell_type": "markdown",
   "id": "61541076",
   "metadata": {
    "papermill": {
     "duration": 0.005582,
     "end_time": "2023-06-05T09:46:12.888994",
     "exception": false,
     "start_time": "2023-06-05T09:46:12.883412",
     "status": "completed"
    },
    "tags": []
   },
   "source": [
    "# **Titanic - A Disaster Prediction**"
   ]
  },
  {
   "cell_type": "markdown",
   "id": "48db4c1f",
   "metadata": {
    "papermill": {
     "duration": 0.003789,
     "end_time": "2023-06-05T09:46:12.897396",
     "exception": false,
     "start_time": "2023-06-05T09:46:12.893607",
     "status": "completed"
    },
    "tags": []
   },
   "source": [
    "This notebook uses Machine Learning to create a basic model predicting which passenger survived the Titanic disaster. The predictions are based on data categories such as class, sex, age, and ticket fare, which are suspected to have played decisive roles in the survival of passengers.\n",
    "A Random Forest Classifier model has been used to simplify the predicting process, and the results take the form of 1 if the passenger survived or 0 if he/she didn't."
   ]
  },
  {
   "cell_type": "code",
   "execution_count": 1,
   "id": "4a1c4980",
   "metadata": {
    "_cell_guid": "b1076dfc-b9ad-4769-8c92-a6c4dae69d19",
    "_uuid": "8f2839f25d086af736a60e9eeb907d3b93b6e0e5",
    "execution": {
     "iopub.execute_input": "2023-06-05T09:46:12.908249Z",
     "iopub.status.busy": "2023-06-05T09:46:12.907884Z",
     "iopub.status.idle": "2023-06-05T09:46:12.922945Z",
     "shell.execute_reply": "2023-06-05T09:46:12.922057Z"
    },
    "papermill": {
     "duration": 0.025058,
     "end_time": "2023-06-05T09:46:12.926536",
     "exception": false,
     "start_time": "2023-06-05T09:46:12.901478",
     "status": "completed"
    },
    "tags": []
   },
   "outputs": [
    {
     "name": "stdout",
     "output_type": "stream",
     "text": [
      "/kaggle/input/titanic/train.csv\n",
      "/kaggle/input/titanic/test.csv\n",
      "/kaggle/input/titanic/gender_submission.csv\n"
     ]
    }
   ],
   "source": [
    "# This Python 3 environment comes with many helpful analytics libraries installed\n",
    "# It is defined by the kaggle/python Docker image: https://github.com/kaggle/docker-python\n",
    "# For example, here's several helpful packages to load\n",
    "\n",
    "import numpy as np # linear algebra\n",
    "import pandas as pd # data processing, CSV file I/O (e.g. pd.read_csv)\n",
    "\n",
    "# Input data files are available in the read-only \"../input/\" directory\n",
    "# For example, running this (by clicking run or pressing Shift+Enter) will list all files under the input directory\n",
    "\n",
    "import os\n",
    "for dirname, _, filenames in os.walk('/kaggle/input'):\n",
    "    for filename in filenames:\n",
    "        print(os.path.join(dirname, filename))\n",
    "\n",
    "# You can write up to 20GB to the current directory (/kaggle/working/) that gets preserved as output when you create a version using \"Save & Run All\" \n",
    "# You can also write temporary files to /kaggle/temp/, but they won't be saved outside of the current session"
   ]
  },
  {
   "cell_type": "code",
   "execution_count": 2,
   "id": "7090454b",
   "metadata": {
    "execution": {
     "iopub.execute_input": "2023-06-05T09:46:12.937698Z",
     "iopub.status.busy": "2023-06-05T09:46:12.936666Z",
     "iopub.status.idle": "2023-06-05T09:46:12.974909Z",
     "shell.execute_reply": "2023-06-05T09:46:12.973563Z"
    },
    "papermill": {
     "duration": 0.046607,
     "end_time": "2023-06-05T09:46:12.977656",
     "exception": false,
     "start_time": "2023-06-05T09:46:12.931049",
     "status": "completed"
    },
    "tags": []
   },
   "outputs": [],
   "source": [
    "train_data = pd.read_csv(\"/kaggle/input/titanic/train.csv\")\n",
    "test_data = pd.read_csv(\"/kaggle/input/titanic/test.csv\")"
   ]
  },
  {
   "cell_type": "code",
   "execution_count": 3,
   "id": "99294cfb",
   "metadata": {
    "execution": {
     "iopub.execute_input": "2023-06-05T09:46:12.988812Z",
     "iopub.status.busy": "2023-06-05T09:46:12.988085Z",
     "iopub.status.idle": "2023-06-05T09:46:13.029770Z",
     "shell.execute_reply": "2023-06-05T09:46:13.028558Z"
    },
    "papermill": {
     "duration": 0.049812,
     "end_time": "2023-06-05T09:46:13.032101",
     "exception": false,
     "start_time": "2023-06-05T09:46:12.982289",
     "status": "completed"
    },
    "tags": []
   },
   "outputs": [
    {
     "data": {
      "text/html": [
       "<div>\n",
       "<style scoped>\n",
       "    .dataframe tbody tr th:only-of-type {\n",
       "        vertical-align: middle;\n",
       "    }\n",
       "\n",
       "    .dataframe tbody tr th {\n",
       "        vertical-align: top;\n",
       "    }\n",
       "\n",
       "    .dataframe thead th {\n",
       "        text-align: right;\n",
       "    }\n",
       "</style>\n",
       "<table border=\"1\" class=\"dataframe\">\n",
       "  <thead>\n",
       "    <tr style=\"text-align: right;\">\n",
       "      <th></th>\n",
       "      <th>PassengerId</th>\n",
       "      <th>Survived</th>\n",
       "      <th>Pclass</th>\n",
       "      <th>Name</th>\n",
       "      <th>Sex</th>\n",
       "      <th>Age</th>\n",
       "      <th>SibSp</th>\n",
       "      <th>Parch</th>\n",
       "      <th>Ticket</th>\n",
       "      <th>Fare</th>\n",
       "      <th>Cabin</th>\n",
       "      <th>Embarked</th>\n",
       "    </tr>\n",
       "  </thead>\n",
       "  <tbody>\n",
       "    <tr>\n",
       "      <th>0</th>\n",
       "      <td>1</td>\n",
       "      <td>0</td>\n",
       "      <td>3</td>\n",
       "      <td>Braund, Mr. Owen Harris</td>\n",
       "      <td>male</td>\n",
       "      <td>22.0</td>\n",
       "      <td>1</td>\n",
       "      <td>0</td>\n",
       "      <td>A/5 21171</td>\n",
       "      <td>7.2500</td>\n",
       "      <td>NaN</td>\n",
       "      <td>S</td>\n",
       "    </tr>\n",
       "    <tr>\n",
       "      <th>1</th>\n",
       "      <td>2</td>\n",
       "      <td>1</td>\n",
       "      <td>1</td>\n",
       "      <td>Cumings, Mrs. John Bradley (Florence Briggs Th...</td>\n",
       "      <td>female</td>\n",
       "      <td>38.0</td>\n",
       "      <td>1</td>\n",
       "      <td>0</td>\n",
       "      <td>PC 17599</td>\n",
       "      <td>71.2833</td>\n",
       "      <td>C85</td>\n",
       "      <td>C</td>\n",
       "    </tr>\n",
       "    <tr>\n",
       "      <th>2</th>\n",
       "      <td>3</td>\n",
       "      <td>1</td>\n",
       "      <td>3</td>\n",
       "      <td>Heikkinen, Miss. Laina</td>\n",
       "      <td>female</td>\n",
       "      <td>26.0</td>\n",
       "      <td>0</td>\n",
       "      <td>0</td>\n",
       "      <td>STON/O2. 3101282</td>\n",
       "      <td>7.9250</td>\n",
       "      <td>NaN</td>\n",
       "      <td>S</td>\n",
       "    </tr>\n",
       "    <tr>\n",
       "      <th>3</th>\n",
       "      <td>4</td>\n",
       "      <td>1</td>\n",
       "      <td>1</td>\n",
       "      <td>Futrelle, Mrs. Jacques Heath (Lily May Peel)</td>\n",
       "      <td>female</td>\n",
       "      <td>35.0</td>\n",
       "      <td>1</td>\n",
       "      <td>0</td>\n",
       "      <td>113803</td>\n",
       "      <td>53.1000</td>\n",
       "      <td>C123</td>\n",
       "      <td>S</td>\n",
       "    </tr>\n",
       "    <tr>\n",
       "      <th>4</th>\n",
       "      <td>5</td>\n",
       "      <td>0</td>\n",
       "      <td>3</td>\n",
       "      <td>Allen, Mr. William Henry</td>\n",
       "      <td>male</td>\n",
       "      <td>35.0</td>\n",
       "      <td>0</td>\n",
       "      <td>0</td>\n",
       "      <td>373450</td>\n",
       "      <td>8.0500</td>\n",
       "      <td>NaN</td>\n",
       "      <td>S</td>\n",
       "    </tr>\n",
       "  </tbody>\n",
       "</table>\n",
       "</div>"
      ],
      "text/plain": [
       "   PassengerId  Survived  Pclass  \\\n",
       "0            1         0       3   \n",
       "1            2         1       1   \n",
       "2            3         1       3   \n",
       "3            4         1       1   \n",
       "4            5         0       3   \n",
       "\n",
       "                                                Name     Sex   Age  SibSp  \\\n",
       "0                            Braund, Mr. Owen Harris    male  22.0      1   \n",
       "1  Cumings, Mrs. John Bradley (Florence Briggs Th...  female  38.0      1   \n",
       "2                             Heikkinen, Miss. Laina  female  26.0      0   \n",
       "3       Futrelle, Mrs. Jacques Heath (Lily May Peel)  female  35.0      1   \n",
       "4                           Allen, Mr. William Henry    male  35.0      0   \n",
       "\n",
       "   Parch            Ticket     Fare Cabin Embarked  \n",
       "0      0         A/5 21171   7.2500   NaN        S  \n",
       "1      0          PC 17599  71.2833   C85        C  \n",
       "2      0  STON/O2. 3101282   7.9250   NaN        S  \n",
       "3      0            113803  53.1000  C123        S  \n",
       "4      0            373450   8.0500   NaN        S  "
      ]
     },
     "execution_count": 3,
     "metadata": {},
     "output_type": "execute_result"
    }
   ],
   "source": [
    "train_data.head()"
   ]
  },
  {
   "cell_type": "markdown",
   "id": "4745c00f",
   "metadata": {
    "papermill": {
     "duration": 0.003994,
     "end_time": "2023-06-05T09:46:13.040827",
     "exception": false,
     "start_time": "2023-06-05T09:46:13.036833",
     "status": "completed"
    },
    "tags": []
   },
   "source": [
    "# Observations"
   ]
  },
  {
   "cell_type": "code",
   "execution_count": 4,
   "id": "26101055",
   "metadata": {
    "execution": {
     "iopub.execute_input": "2023-06-05T09:46:13.054411Z",
     "iopub.status.busy": "2023-06-05T09:46:13.053925Z",
     "iopub.status.idle": "2023-06-05T09:46:13.070832Z",
     "shell.execute_reply": "2023-06-05T09:46:13.068402Z"
    },
    "papermill": {
     "duration": 0.026545,
     "end_time": "2023-06-05T09:46:13.074295",
     "exception": false,
     "start_time": "2023-06-05T09:46:13.047750",
     "status": "completed"
    },
    "tags": []
   },
   "outputs": [
    {
     "data": {
      "text/plain": [
       "PassengerId      0\n",
       "Survived         0\n",
       "Pclass           0\n",
       "Name             0\n",
       "Sex              0\n",
       "Age            177\n",
       "SibSp            0\n",
       "Parch            0\n",
       "Ticket           0\n",
       "Fare             0\n",
       "Cabin          687\n",
       "Embarked         2\n",
       "dtype: int64"
      ]
     },
     "execution_count": 4,
     "metadata": {},
     "output_type": "execute_result"
    }
   ],
   "source": [
    "missing_values_count = train_data.isnull().sum()\n",
    "missing_values_count"
   ]
  },
  {
   "cell_type": "code",
   "execution_count": 5,
   "id": "4c785d9d",
   "metadata": {
    "execution": {
     "iopub.execute_input": "2023-06-05T09:46:13.085920Z",
     "iopub.status.busy": "2023-06-05T09:46:13.085501Z",
     "iopub.status.idle": "2023-06-05T09:46:13.099635Z",
     "shell.execute_reply": "2023-06-05T09:46:13.097935Z"
    },
    "papermill": {
     "duration": 0.023674,
     "end_time": "2023-06-05T09:46:13.102868",
     "exception": false,
     "start_time": "2023-06-05T09:46:13.079194",
     "status": "completed"
    },
    "tags": []
   },
   "outputs": [
    {
     "data": {
      "text/plain": [
       "PassengerId      0\n",
       "Pclass           0\n",
       "Name             0\n",
       "Sex              0\n",
       "Age             86\n",
       "SibSp            0\n",
       "Parch            0\n",
       "Ticket           0\n",
       "Fare             1\n",
       "Cabin          327\n",
       "Embarked         0\n",
       "dtype: int64"
      ]
     },
     "execution_count": 5,
     "metadata": {},
     "output_type": "execute_result"
    }
   ],
   "source": [
    "missing_values_count = test_data.isnull().sum()\n",
    "missing_values_count"
   ]
  },
  {
   "cell_type": "code",
   "execution_count": 6,
   "id": "f4d3cae8",
   "metadata": {
    "execution": {
     "iopub.execute_input": "2023-06-05T09:46:13.115052Z",
     "iopub.status.busy": "2023-06-05T09:46:13.114669Z",
     "iopub.status.idle": "2023-06-05T09:46:13.141629Z",
     "shell.execute_reply": "2023-06-05T09:46:13.140062Z"
    },
    "papermill": {
     "duration": 0.036425,
     "end_time": "2023-06-05T09:46:13.144636",
     "exception": false,
     "start_time": "2023-06-05T09:46:13.108211",
     "status": "completed"
    },
    "tags": []
   },
   "outputs": [
    {
     "data": {
      "text/html": [
       "<div>\n",
       "<style scoped>\n",
       "    .dataframe tbody tr th:only-of-type {\n",
       "        vertical-align: middle;\n",
       "    }\n",
       "\n",
       "    .dataframe tbody tr th {\n",
       "        vertical-align: top;\n",
       "    }\n",
       "\n",
       "    .dataframe thead th {\n",
       "        text-align: right;\n",
       "    }\n",
       "</style>\n",
       "<table border=\"1\" class=\"dataframe\">\n",
       "  <thead>\n",
       "    <tr style=\"text-align: right;\">\n",
       "      <th></th>\n",
       "      <th>PassengerId</th>\n",
       "      <th>Pclass</th>\n",
       "      <th>Name</th>\n",
       "      <th>Sex</th>\n",
       "      <th>Age</th>\n",
       "      <th>SibSp</th>\n",
       "      <th>Parch</th>\n",
       "      <th>Ticket</th>\n",
       "      <th>Fare</th>\n",
       "      <th>Cabin</th>\n",
       "      <th>Embarked</th>\n",
       "    </tr>\n",
       "  </thead>\n",
       "  <tbody>\n",
       "    <tr>\n",
       "      <th>0</th>\n",
       "      <td>892</td>\n",
       "      <td>3</td>\n",
       "      <td>Kelly, Mr. James</td>\n",
       "      <td>male</td>\n",
       "      <td>34.5</td>\n",
       "      <td>0</td>\n",
       "      <td>0</td>\n",
       "      <td>330911</td>\n",
       "      <td>7.8292</td>\n",
       "      <td>NaN</td>\n",
       "      <td>Q</td>\n",
       "    </tr>\n",
       "    <tr>\n",
       "      <th>1</th>\n",
       "      <td>893</td>\n",
       "      <td>3</td>\n",
       "      <td>Wilkes, Mrs. James (Ellen Needs)</td>\n",
       "      <td>female</td>\n",
       "      <td>47.0</td>\n",
       "      <td>1</td>\n",
       "      <td>0</td>\n",
       "      <td>363272</td>\n",
       "      <td>7.0000</td>\n",
       "      <td>NaN</td>\n",
       "      <td>S</td>\n",
       "    </tr>\n",
       "    <tr>\n",
       "      <th>2</th>\n",
       "      <td>894</td>\n",
       "      <td>2</td>\n",
       "      <td>Myles, Mr. Thomas Francis</td>\n",
       "      <td>male</td>\n",
       "      <td>62.0</td>\n",
       "      <td>0</td>\n",
       "      <td>0</td>\n",
       "      <td>240276</td>\n",
       "      <td>9.6875</td>\n",
       "      <td>NaN</td>\n",
       "      <td>Q</td>\n",
       "    </tr>\n",
       "    <tr>\n",
       "      <th>3</th>\n",
       "      <td>895</td>\n",
       "      <td>3</td>\n",
       "      <td>Wirz, Mr. Albert</td>\n",
       "      <td>male</td>\n",
       "      <td>27.0</td>\n",
       "      <td>0</td>\n",
       "      <td>0</td>\n",
       "      <td>315154</td>\n",
       "      <td>8.6625</td>\n",
       "      <td>NaN</td>\n",
       "      <td>S</td>\n",
       "    </tr>\n",
       "    <tr>\n",
       "      <th>4</th>\n",
       "      <td>896</td>\n",
       "      <td>3</td>\n",
       "      <td>Hirvonen, Mrs. Alexander (Helga E Lindqvist)</td>\n",
       "      <td>female</td>\n",
       "      <td>22.0</td>\n",
       "      <td>1</td>\n",
       "      <td>1</td>\n",
       "      <td>3101298</td>\n",
       "      <td>12.2875</td>\n",
       "      <td>NaN</td>\n",
       "      <td>S</td>\n",
       "    </tr>\n",
       "  </tbody>\n",
       "</table>\n",
       "</div>"
      ],
      "text/plain": [
       "   PassengerId  Pclass                                          Name     Sex  \\\n",
       "0          892       3                              Kelly, Mr. James    male   \n",
       "1          893       3              Wilkes, Mrs. James (Ellen Needs)  female   \n",
       "2          894       2                     Myles, Mr. Thomas Francis    male   \n",
       "3          895       3                              Wirz, Mr. Albert    male   \n",
       "4          896       3  Hirvonen, Mrs. Alexander (Helga E Lindqvist)  female   \n",
       "\n",
       "    Age  SibSp  Parch   Ticket     Fare Cabin Embarked  \n",
       "0  34.5      0      0   330911   7.8292   NaN        Q  \n",
       "1  47.0      1      0   363272   7.0000   NaN        S  \n",
       "2  62.0      0      0   240276   9.6875   NaN        Q  \n",
       "3  27.0      0      0   315154   8.6625   NaN        S  \n",
       "4  22.0      1      1  3101298  12.2875   NaN        S  "
      ]
     },
     "execution_count": 6,
     "metadata": {},
     "output_type": "execute_result"
    }
   ],
   "source": [
    "# to simplify the prediction process, we drop the 1 row with NaN value for 'Fare'\n",
    "test_data = test_data.dropna(subset='Fare',axis=0)\n",
    "test_data.head()"
   ]
  },
  {
   "cell_type": "markdown",
   "id": "404078ee",
   "metadata": {
    "papermill": {
     "duration": 0.004445,
     "end_time": "2023-06-05T09:46:13.154194",
     "exception": false,
     "start_time": "2023-06-05T09:46:13.149749",
     "status": "completed"
    },
    "tags": []
   },
   "source": [
    "# Data cleaning "
   ]
  },
  {
   "cell_type": "markdown",
   "id": "3c28ccc1",
   "metadata": {
    "papermill": {
     "duration": 0.004352,
     "end_time": "2023-06-05T09:46:13.163461",
     "exception": false,
     "start_time": "2023-06-05T09:46:13.159109",
     "status": "completed"
    },
    "tags": []
   },
   "source": [
    "We'd want to replace the NaN values in the 'Age' column to the mean number, so as to optimise the data and account the age factor into the prediction model."
   ]
  },
  {
   "cell_type": "code",
   "execution_count": 7,
   "id": "ef3d4375",
   "metadata": {
    "execution": {
     "iopub.execute_input": "2023-06-05T09:46:13.174816Z",
     "iopub.status.busy": "2023-06-05T09:46:13.174374Z",
     "iopub.status.idle": "2023-06-05T09:46:13.183511Z",
     "shell.execute_reply": "2023-06-05T09:46:13.181779Z"
    },
    "papermill": {
     "duration": 0.018549,
     "end_time": "2023-06-05T09:46:13.186533",
     "exception": false,
     "start_time": "2023-06-05T09:46:13.167984",
     "status": "completed"
    },
    "tags": []
   },
   "outputs": [
    {
     "name": "stdout",
     "output_type": "stream",
     "text": [
      "DataFrame updated.\n"
     ]
    }
   ],
   "source": [
    "train_age_mean = train_data['Age'].mean()\n",
    "train_data['Age'].fillna(value=train_age_mean, inplace=True)\n",
    "\n",
    "test_age_mean = test_data['Age'].mean()\n",
    "test_data['Age'].fillna(value=test_age_mean, inplace=True)\n",
    "print('DataFrame updated.')"
   ]
  },
  {
   "cell_type": "markdown",
   "id": "07bc6b49",
   "metadata": {
    "papermill": {
     "duration": 0.004871,
     "end_time": "2023-06-05T09:46:13.197070",
     "exception": false,
     "start_time": "2023-06-05T09:46:13.192199",
     "status": "completed"
    },
    "tags": []
   },
   "source": [
    "# Prediction model"
   ]
  },
  {
   "cell_type": "code",
   "execution_count": 8,
   "id": "9766bb05",
   "metadata": {
    "execution": {
     "iopub.execute_input": "2023-06-05T09:46:13.208769Z",
     "iopub.status.busy": "2023-06-05T09:46:13.208336Z",
     "iopub.status.idle": "2023-06-05T09:46:13.228250Z",
     "shell.execute_reply": "2023-06-05T09:46:13.226424Z"
    },
    "papermill": {
     "duration": 0.029042,
     "end_time": "2023-06-05T09:46:13.231046",
     "exception": false,
     "start_time": "2023-06-05T09:46:13.202004",
     "status": "completed"
    },
    "tags": []
   },
   "outputs": [],
   "source": [
    "y = train_data.Survived\n",
    "features = ['Pclass','Sex','Age','SibSp','Fare']\n",
    "X = pd.get_dummies(train_data[features])\n",
    "X_test = pd.get_dummies(test_data[features])"
   ]
  },
  {
   "cell_type": "code",
   "execution_count": 9,
   "id": "6b14cf46",
   "metadata": {
    "execution": {
     "iopub.execute_input": "2023-06-05T09:46:13.243585Z",
     "iopub.status.busy": "2023-06-05T09:46:13.243160Z",
     "iopub.status.idle": "2023-06-05T09:46:15.593777Z",
     "shell.execute_reply": "2023-06-05T09:46:15.592553Z"
    },
    "papermill": {
     "duration": 2.360068,
     "end_time": "2023-06-05T09:46:15.596345",
     "exception": false,
     "start_time": "2023-06-05T09:46:13.236277",
     "status": "completed"
    },
    "tags": []
   },
   "outputs": [],
   "source": [
    "from sklearn.ensemble import RandomForestClassifier\n",
    "predict_model = RandomForestClassifier(n_estimators=100, max_depth=5, random_state=1)\n",
    "predict_model.fit(X,y)\n",
    "predictions = predict_model.predict(X_test)"
   ]
  },
  {
   "cell_type": "code",
   "execution_count": 10,
   "id": "5eac3601",
   "metadata": {
    "execution": {
     "iopub.execute_input": "2023-06-05T09:46:15.609207Z",
     "iopub.status.busy": "2023-06-05T09:46:15.607699Z",
     "iopub.status.idle": "2023-06-05T09:46:15.620197Z",
     "shell.execute_reply": "2023-06-05T09:46:15.619480Z"
    },
    "papermill": {
     "duration": 0.021076,
     "end_time": "2023-06-05T09:46:15.622665",
     "exception": false,
     "start_time": "2023-06-05T09:46:15.601589",
     "status": "completed"
    },
    "tags": []
   },
   "outputs": [
    {
     "name": "stdout",
     "output_type": "stream",
     "text": [
      "Your submission was successfully saved!\n"
     ]
    }
   ],
   "source": [
    "output = pd.DataFrame({'PassengerId': test_data.PassengerId, 'Survived': predictions})\n",
    "output.to_csv('submission.csv', index=False)\n",
    "print(\"Your submission was successfully saved!\")"
   ]
  },
  {
   "cell_type": "code",
   "execution_count": 11,
   "id": "c633da22",
   "metadata": {
    "execution": {
     "iopub.execute_input": "2023-06-05T09:46:15.635344Z",
     "iopub.status.busy": "2023-06-05T09:46:15.633711Z",
     "iopub.status.idle": "2023-06-05T09:46:15.647856Z",
     "shell.execute_reply": "2023-06-05T09:46:15.645933Z"
    },
    "papermill": {
     "duration": 0.022685,
     "end_time": "2023-06-05T09:46:15.650366",
     "exception": false,
     "start_time": "2023-06-05T09:46:15.627681",
     "status": "completed"
    },
    "tags": []
   },
   "outputs": [
    {
     "data": {
      "text/html": [
       "<div>\n",
       "<style scoped>\n",
       "    .dataframe tbody tr th:only-of-type {\n",
       "        vertical-align: middle;\n",
       "    }\n",
       "\n",
       "    .dataframe tbody tr th {\n",
       "        vertical-align: top;\n",
       "    }\n",
       "\n",
       "    .dataframe thead th {\n",
       "        text-align: right;\n",
       "    }\n",
       "</style>\n",
       "<table border=\"1\" class=\"dataframe\">\n",
       "  <thead>\n",
       "    <tr style=\"text-align: right;\">\n",
       "      <th></th>\n",
       "      <th>PassengerId</th>\n",
       "      <th>Survived</th>\n",
       "    </tr>\n",
       "  </thead>\n",
       "  <tbody>\n",
       "    <tr>\n",
       "      <th>0</th>\n",
       "      <td>892</td>\n",
       "      <td>0</td>\n",
       "    </tr>\n",
       "    <tr>\n",
       "      <th>1</th>\n",
       "      <td>893</td>\n",
       "      <td>0</td>\n",
       "    </tr>\n",
       "    <tr>\n",
       "      <th>2</th>\n",
       "      <td>894</td>\n",
       "      <td>0</td>\n",
       "    </tr>\n",
       "    <tr>\n",
       "      <th>3</th>\n",
       "      <td>895</td>\n",
       "      <td>0</td>\n",
       "    </tr>\n",
       "    <tr>\n",
       "      <th>4</th>\n",
       "      <td>896</td>\n",
       "      <td>1</td>\n",
       "    </tr>\n",
       "    <tr>\n",
       "      <th>5</th>\n",
       "      <td>897</td>\n",
       "      <td>0</td>\n",
       "    </tr>\n",
       "    <tr>\n",
       "      <th>6</th>\n",
       "      <td>898</td>\n",
       "      <td>1</td>\n",
       "    </tr>\n",
       "    <tr>\n",
       "      <th>7</th>\n",
       "      <td>899</td>\n",
       "      <td>0</td>\n",
       "    </tr>\n",
       "    <tr>\n",
       "      <th>8</th>\n",
       "      <td>900</td>\n",
       "      <td>1</td>\n",
       "    </tr>\n",
       "    <tr>\n",
       "      <th>9</th>\n",
       "      <td>901</td>\n",
       "      <td>0</td>\n",
       "    </tr>\n",
       "    <tr>\n",
       "      <th>10</th>\n",
       "      <td>902</td>\n",
       "      <td>0</td>\n",
       "    </tr>\n",
       "    <tr>\n",
       "      <th>11</th>\n",
       "      <td>903</td>\n",
       "      <td>0</td>\n",
       "    </tr>\n",
       "    <tr>\n",
       "      <th>12</th>\n",
       "      <td>904</td>\n",
       "      <td>1</td>\n",
       "    </tr>\n",
       "    <tr>\n",
       "      <th>13</th>\n",
       "      <td>905</td>\n",
       "      <td>0</td>\n",
       "    </tr>\n",
       "    <tr>\n",
       "      <th>14</th>\n",
       "      <td>906</td>\n",
       "      <td>1</td>\n",
       "    </tr>\n",
       "  </tbody>\n",
       "</table>\n",
       "</div>"
      ],
      "text/plain": [
       "    PassengerId  Survived\n",
       "0           892         0\n",
       "1           893         0\n",
       "2           894         0\n",
       "3           895         0\n",
       "4           896         1\n",
       "5           897         0\n",
       "6           898         1\n",
       "7           899         0\n",
       "8           900         1\n",
       "9           901         0\n",
       "10          902         0\n",
       "11          903         0\n",
       "12          904         1\n",
       "13          905         0\n",
       "14          906         1"
      ]
     },
     "execution_count": 11,
     "metadata": {},
     "output_type": "execute_result"
    }
   ],
   "source": [
    "output.head(15)"
   ]
  },
  {
   "cell_type": "markdown",
   "id": "f439ceaf",
   "metadata": {
    "papermill": {
     "duration": 0.0046,
     "end_time": "2023-06-05T09:46:15.660146",
     "exception": false,
     "start_time": "2023-06-05T09:46:15.655546",
     "status": "completed"
    },
    "tags": []
   },
   "source": [
    "**Weakness of the model:** It does not tackle the one passenger that doesn't include data of his/her fare price"
   ]
  }
 ],
 "metadata": {
  "kernelspec": {
   "display_name": "Python 3",
   "language": "python",
   "name": "python3"
  },
  "language_info": {
   "codemirror_mode": {
    "name": "ipython",
    "version": 3
   },
   "file_extension": ".py",
   "mimetype": "text/x-python",
   "name": "python",
   "nbconvert_exporter": "python",
   "pygments_lexer": "ipython3",
   "version": "3.10.10"
  },
  "papermill": {
   "default_parameters": {},
   "duration": 17.620289,
   "end_time": "2023-06-05T09:46:16.893704",
   "environment_variables": {},
   "exception": null,
   "input_path": "__notebook__.ipynb",
   "output_path": "__notebook__.ipynb",
   "parameters": {},
   "start_time": "2023-06-05T09:45:59.273415",
   "version": "2.4.0"
  }
 },
 "nbformat": 4,
 "nbformat_minor": 5
}
